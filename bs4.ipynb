{
 "cells": [
  {
   "cell_type": "code",
   "execution_count": null,
   "metadata": {},
   "outputs": [],
   "source": [
    "from bs4 import BeautifulSoup as bs\n",
    "import requests as rq\n",
    "from bs4 import BeautifulSoup as bs\n",
    "import requests as rq\n",
    "import re\n",
    "import pandas as pd"
   ]
  },
  {
   "cell_type": "markdown",
   "metadata": {},
   "source": [
    "# Q.1. The header tags from wikipedia.org."
   ]
  },
  {
   "cell_type": "code",
   "execution_count": null,
   "metadata": {},
   "outputs": [],
   "source": [
    "url = 'https://en.wikipedia.org'\n",
    "data = rq.get(url)\n",
    "html_data = data.content\n",
    " \n",
    "Soup = bs(html_data, 'html.parser')\n",
    " \n",
    "header_level = [\"h1\", \"h2\", \"h3\",\"h4\", \"h5\", \"h6\"]\n",
    "header_data = Soup.find_all(header_level)\n",
    "\n",
    "print('Following are the headers of ', url, ':', '\\n')\n",
    "\n",
    "for i in header_data:\n",
    "    print(i.text.strip())\n",
    "    "
   ]
  },
  {
   "cell_type": "markdown",
   "metadata": {},
   "source": [
    "# Q.2. Display IMDB’s Top rated 100 movies’ data"
   ]
  },
  {
   "cell_type": "code",
   "execution_count": null,
   "metadata": {},
   "outputs": [],
   "source": [
    "url = 'https://www.imdb.com/chart/top/?ref_=nv_mv_250'\n",
    "\n",
    "\n",
    "data = rq.get(url)\n",
    "html_data = data.content\n",
    "\n",
    "\n",
    "soup = bs(data.text, 'html.parser')\n",
    "data_td = soup.find_all('td')\n",
    "\n",
    "Indian_movie_list = []\n",
    "for i in range(1,len(data_td),5):\n",
    "    if i == len(data_td)-1:\n",
    "        break\n",
    "    else:\n",
    "        Movie_title = data_td[i].text.strip().split(\".\")[-1].strip().split('\\n')[0]\n",
    "        Release_year = data_td[i].text.strip().split(\".\")[-1].strip().split('\\n')[-1][1:-1]\n",
    "        IMDB_rating = data_td[i+1].text.strip()\n",
    "\n",
    "    Indian_movie_list.append([Movie_title,Release_year,IMDB_rating])\n",
    "\n",
    "df = pd.DataFrame(Indian_movie_list,index = range(1,251),columns = ['Movie_title','Release_year','IMDB_rating'])\n",
    "df.head(100)"
   ]
  },
  {
   "cell_type": "markdown",
   "metadata": {},
   "source": [
    "# Q.3. Display IMDB’s Top rated Indian 100 movies’ data"
   ]
  },
  {
   "cell_type": "code",
   "execution_count": null,
   "metadata": {},
   "outputs": [],
   "source": [
    "url = 'https://www.imdb.com/india/top-rated-indian-movies/'\n",
    "\n",
    "\n",
    "data = rq.get(url)\n",
    "html_data = data.content\n",
    "\n",
    "\n",
    "soup = bs(data.text, 'html.parser')\n",
    "data_td = soup.find_all('td')\n",
    "\n",
    "Indian_movie_list = []\n",
    "for i in range(1,len(data_td),5):\n",
    "    if i == len(data_td)-1:\n",
    "        break\n",
    "    else:\n",
    "        Movie_title = data_td[i].text.strip().split(\".\")[-1].strip().split('\\n')[0]\n",
    "        Release_year = data_td[i].text.strip().split(\".\")[-1].strip().split('\\n')[-1][1:-1]\n",
    "        IMDB_rating = data_td[i+1].text.strip()\n",
    "\n",
    "    Indian_movie_list.append([Movie_title,Release_year,IMDB_rating])\n",
    "\n",
    "df = pd.DataFrame(Indian_movie_list,index = range(1,251),columns = ['Movie_title','Release_year','IMDB_rating'])\n",
    "df.head(100)"
   ]
  },
  {
   "cell_type": "markdown",
   "metadata": {},
   "source": [
    "# Q.5.1. Top 10 ODI teams in men’s cricket along with the records for matches, points and rating."
   ]
  },
  {
   "cell_type": "code",
   "execution_count": null,
   "metadata": {},
   "outputs": [],
   "source": [
    "url = 'https://www.icc-cricket.com/rankings/mens/team-rankings/odi'\n",
    "\n",
    "\n",
    "data = rq.get(url)\n",
    "html_data = data.content\n",
    "\n",
    "\n",
    "soup = bs(data.text, 'html.parser')\n",
    "data_td = soup.find_all('td')\n",
    "\n",
    "Team_Ranking_ODI = []\n",
    "for i in range(1,len(data_td),5):\n",
    "    if i == len(data_td)-1:\n",
    "        break\n",
    "    else:\n",
    "        Team_name = data_td[i].text.strip().split(\".\")[-1].strip().split('\\n')[0]\n",
    "        Matches = data_td[i+1].text.strip()\n",
    "        Points = data_td[i+2].text.strip()\n",
    "        Ratings = data_td[i+3].text.strip()\n",
    "\n",
    "    Team_Ranking_ODI.append([Team_name,Matches,Points,Ratings])\n",
    "\n",
    "df = pd.DataFrame(Team_Ranking_ODI,index = range(1,21),columns = ['Team_name','Matches','Points','Ratings',])\n",
    "\n",
    "print('ODI TEAM RANKING 2022')\n",
    "df.head(10)"
   ]
  },
  {
   "cell_type": "markdown",
   "metadata": {},
   "source": [
    "# Q.5.2.Top 10 ODI Batsmen along with the records of their team and rating."
   ]
  },
  {
   "cell_type": "code",
   "execution_count": null,
   "metadata": {},
   "outputs": [],
   "source": [
    "url = 'https://www.icc-cricket.com/rankings/mens/player-rankings/odi/batting'\n",
    "\n",
    "\n",
    "data = rq.get(url)\n",
    "html_data = data.content\n",
    "\n",
    "\n",
    "soup = bs(data.text, 'html.parser')\n",
    "data_td = soup.find_all('td')\n",
    "\n",
    "Team_Ranking_ODI = []\n",
    "for i in range(1,len(data_td),5):\n",
    "    if i == len(data_td)-1:\n",
    "        break\n",
    "    else:\n",
    "        Team_name = data_td[i].text.strip().split(\".\")[-1].strip().split('\\n')[0]\n",
    "        Country = data_td[i+1].text.strip()\n",
    "        Ratings = data_td[i+2].text.strip()\n",
    "       \n",
    "    Team_Ranking_ODI.append([Team_name,Country,Ratings])\n",
    "\n",
    "df = pd.DataFrame(Team_Ranking_ODI,index = range(1,101),columns = ['Team_name','Country','Ratings',])\n",
    "\n",
    "print('ODI MEN Batting RANKING 2022')\n",
    "df.head(10)"
   ]
  },
  {
   "cell_type": "markdown",
   "metadata": {},
   "source": [
    "# Q.5.3.Top 10 ODI bowlers along with the records of their team and rating."
   ]
  },
  {
   "cell_type": "code",
   "execution_count": null,
   "metadata": {},
   "outputs": [],
   "source": [
    "url = 'https://www.icc-cricket.com/rankings/mens/player-rankings/odi/bowling'\n",
    "\n",
    "\n",
    "data = rq.get(url)\n",
    "html_data = data.content\n",
    "\n",
    "\n",
    "soup = bs(data.text, 'html.parser')\n",
    "data_td = soup.find_all('td')\n",
    "\n",
    "Team_Ranking_ODI = []\n",
    "for i in range(1,len(data_td),5):\n",
    "    if i == len(data_td)-1:\n",
    "        break\n",
    "    else:\n",
    "        Team_name = data_td[i].text.strip().split(\".\")[-1].strip().split('\\n')[0]\n",
    "        Country = data_td[i+1].text.strip()\n",
    "        Ratings = data_td[i+2].text.strip()\n",
    "       \n",
    "    Team_Ranking_ODI.append([Team_name,Country,Ratings])\n",
    "\n",
    "df = pd.DataFrame(Team_Ranking_ODI,index = range(1,101),columns = ['Team_name','Country','Ratings',])\n",
    "\n",
    "print('ODI MEN Bowling RANKING 2022')\n",
    "df.head(10)"
   ]
  },
  {
   "cell_type": "markdown",
   "metadata": {},
   "source": [
    "# Q.6.1. Top 10 ODI teams in women’s cricket along with the records for matches, points and rating."
   ]
  },
  {
   "cell_type": "code",
   "execution_count": null,
   "metadata": {},
   "outputs": [],
   "source": [
    "url = 'https://www.icc-cricket.com/rankings/womens/team-rankings/odi'\n",
    "\n",
    "\n",
    "data = rq.get(url)\n",
    "html_data = data.content\n",
    "\n",
    "\n",
    "soup = bs(data.text, 'html.parser')\n",
    "data_td = soup.find_all('td')\n",
    "\n",
    "Team_Ranking_ODI = []\n",
    "for i in range(1,len(data_td),5):\n",
    "    if i == len(data_td)-1:\n",
    "        break\n",
    "    else:\n",
    "        Team_name = data_td[i].text.strip().split(\".\")[-1].strip().split('\\n')[0]\n",
    "        Matches = data_td[i+1].text.strip()\n",
    "        Points = data_td[i+2].text.strip()\n",
    "        Ratings = data_td[i+3].text.strip()\n",
    "\n",
    "    Team_Ranking_ODI.append([Team_name,Matches,Points,Ratings])\n",
    "\n",
    "df = pd.DataFrame(Team_Ranking_ODI,index = range(1,12),columns = ['Team_name','Matches','Points','Ratings',])\n",
    "\n",
    "print('ODI TEAM RANKING 2022')\n",
    "df.head(10)"
   ]
  },
  {
   "cell_type": "markdown",
   "metadata": {},
   "source": [
    "# Q.6.2.Top 10 ODI Batsmen along with the records of their team and rating."
   ]
  },
  {
   "cell_type": "code",
   "execution_count": null,
   "metadata": {},
   "outputs": [],
   "source": [
    "url = 'https://www.icc-cricket.com/rankings/womens/player-rankings/odi/batting'\n",
    "\n",
    "\n",
    "data = rq.get(url)\n",
    "html_data = data.content\n",
    "\n",
    "\n",
    "soup = bs(data.text, 'html.parser')\n",
    "data_td = soup.find_all('td')\n",
    "\n",
    "Team_Ranking_ODI = []\n",
    "for i in range(1,len(data_td),5):\n",
    "    if i == len(data_td)-1:\n",
    "        break\n",
    "    else:\n",
    "        Team_name = data_td[i].text.strip().split(\".\")[-1].strip().split('\\n')[0]\n",
    "        Country = data_td[i+1].text.strip()\n",
    "        Ratings = data_td[i+2].text.strip()\n",
    "       \n",
    "    Team_Ranking_ODI.append([Team_name,Country,Ratings])\n",
    "\n",
    "df = pd.DataFrame(Team_Ranking_ODI,index = range(1,101),columns = ['Team_name','Country','Ratings',])\n",
    "\n",
    "print('ODI WOMEN Batting RANKING 2022')\n",
    "df.head(10)"
   ]
  },
  {
   "cell_type": "markdown",
   "metadata": {},
   "source": [
    "# Q.6.3.Top 10 ODI women bowlers along with the records of their team and rating."
   ]
  },
  {
   "cell_type": "code",
   "execution_count": null,
   "metadata": {},
   "outputs": [],
   "source": [
    "url = 'https://www.icc-cricket.com/rankings/womens/player-rankings/odi/bowling'\n",
    "\n",
    "\n",
    "data = rq.get(url)\n",
    "html_data = data.content\n",
    "\n",
    "\n",
    "soup = bs(data.text, 'html.parser')\n",
    "data_td = soup.find_all('td')\n",
    "\n",
    "Team_Ranking_ODI = []\n",
    "for i in range(1,len(data_td),5):\n",
    "    if i == len(data_td)-1:\n",
    "        break\n",
    "    else:\n",
    "        Team_name = data_td[i].text.strip().split(\".\")[-1].strip().split('\\n')[0]\n",
    "        Country = data_td[i+1].text.strip()\n",
    "        Ratings = data_td[i+2].text.strip()\n",
    "       \n",
    "    Team_Ranking_ODI.append([Team_name,Country,Ratings])\n",
    "\n",
    "df = pd.DataFrame(Team_Ranking_ODI,index = range(1,101),columns = ['Team_name','Country','Ratings',])\n",
    "\n",
    "print('ODI WOMEN Bowling RANKING 2022')\n",
    "df.head(10)"
   ]
  },
  {
   "cell_type": "markdown",
   "metadata": {},
   "source": [
    "# Q.7.1 Write a python program to scrape mentioned news details from https://www.cnbc.com/world/?region=world :\n",
    "i) Headline"
   ]
  },
  {
   "cell_type": "code",
   "execution_count": null,
   "metadata": {},
   "outputs": [],
   "source": [
    "url = 'https://www.cnbc.com/world/?region=world'\n",
    "data = rq.get(url)\n",
    "html_data = data.content\n",
    " \n",
    "Soup = bs(html_data, 'html.parser')\n",
    " \n",
    "\n",
    "header_data = Soup.find_all('a', class_='LatestNews-headline')\n",
    "\n",
    "a=1\n",
    "print('***************HEADLINES :*******************')\n",
    "for i in header_data:\n",
    "    print(a,\".\",i.text.strip())\n",
    "    a=a+1\n",
    "   "
   ]
  },
  {
   "cell_type": "markdown",
   "metadata": {},
   "source": [
    "# Q7.3.Write a python program to scrape mentioned news details from https://www.cnbc.com/world/?region=world :\n",
    "3. News links"
   ]
  },
  {
   "cell_type": "code",
   "execution_count": null,
   "metadata": {},
   "outputs": [],
   "source": [
    "url = 'https://www.cnbc.com/world/?region=world '\n",
    "data = rq.get(url)\n",
    "html_data = data.content\n",
    " \n",
    "Soup = bs(data.text, 'html.parser')\n",
    " \n",
    "\n",
    "header_data = Soup.find_all('a',class_='LatestNews-headline', href=True)\n",
    "\n",
    "for a in header_data:\n",
    "    print ( \"News URL:\", a['href'])"
   ]
  },
  {
   "cell_type": "markdown",
   "metadata": {},
   "source": [
    "# Q.8.1.Write a python program to scrape the details of most downloaded articles from AI in last 90 days.\n",
    "https://www.journals.elsevier.com/artificial-intelligence/most-downloaded-articles\n",
    "\n",
    "\n",
    "\n",
    "TITLES"
   ]
  },
  {
   "cell_type": "code",
   "execution_count": null,
   "metadata": {},
   "outputs": [],
   "source": [
    "url = 'https://www.journals.elsevier.com/artificial-intelligence/most-downloaded-articles'\n",
    "\n",
    "\n",
    "data = rq.get(url)\n",
    "html_data = data.content\n",
    " \n",
    "Soup = bs(data.text, 'html.parser')\n",
    " \n",
    "header_data = Soup.find_all('h2')\n",
    "\n",
    "print('Following is the of most downloaded articles TITLES referred from', url, ':', '\\n')\n",
    "a=1\n",
    "for i in header_data:\n",
    "    print(a,'.',i.text.strip())\n",
    "    a = a+1"
   ]
  },
  {
   "cell_type": "markdown",
   "metadata": {},
   "source": [
    "# Q.8.2.Write a python program to scrape the details of most downloaded articles from AI in last 90 days.\n",
    "https://www.journals.elsevier.com/artificial-intelligence/most-downloaded-articles\n",
    "\n",
    "\n",
    "\n",
    "Authors"
   ]
  },
  {
   "cell_type": "code",
   "execution_count": null,
   "metadata": {},
   "outputs": [],
   "source": [
    "url = 'https://www.journals.elsevier.com/artificial-intelligence/most-downloaded-articles'\n",
    "\n",
    "\n",
    "data = rq.get(url)\n",
    "html_data = data.content\n",
    " \n",
    "Soup = bs(html_data, 'html.parser')\n",
    " \n",
    "header_data = Soup.find_all(class_='sc-1w3fpd7-0 pgLAT',)\n",
    "\n",
    "print('Following is the of most downloaded authors referred from', url, ':', '\\n')\n",
    "a=1\n",
    "for i in header_data:\n",
    "    print(a,'.',i.text.strip())\n",
    "    a = a+1\n"
   ]
  },
  {
   "cell_type": "markdown",
   "metadata": {},
   "source": [
    "# Q.8.3.Write a python program to scrape the details of most downloaded articles from AI in last 90 days.\n",
    "https://www.journals.elsevier.com/artificial-intelligence/most-downloaded-articles\n",
    "    \n",
    "    Dates of Publishing"
   ]
  },
  {
   "cell_type": "code",
   "execution_count": 75,
   "metadata": {},
   "outputs": [
    {
     "name": "stdout",
     "output_type": "stream",
     "text": [
      "Following is the of Dates for most downloaded authors referred from https://www.journals.elsevier.com/artificial-intelligence/most-downloaded-articles : \n",
      "\n",
      "1 . October 2021\n",
      "2 . October 2021\n",
      "3 . October 2015\n",
      "4 . August 1998\n",
      "5 . June 2017\n",
      "6 . February 2019\n",
      "7 . April 2021\n",
      "8 . February 2015\n",
      "9 . August 1999\n",
      "10 . March 2020\n",
      "11 . February 2021\n",
      "12 . October 2007\n",
      "13 . August 2016\n",
      "14 . April 2021\n",
      "15 . December 1997\n",
      "16 . August 2021\n",
      "17 . September 2021\n",
      "18 . June 2021\n",
      "19 . December 2016\n",
      "20 . September 2021\n",
      "21 . May 2021\n",
      "22 . January 2014\n",
      "23 . December 1997\n",
      "24 . October 2021\n",
      "25 . February 2010\n"
     ]
    }
   ],
   "source": [
    "url = 'https://www.journals.elsevier.com/artificial-intelligence/most-downloaded-articles'\n",
    "\n",
    "\n",
    "data = rq.get(url)\n",
    "html_data = data.content\n",
    " \n",
    "Soup = bs(html_data, 'html.parser')\n",
    " \n",
    "header_data = Soup.find_all(class_='sc-1thf9ly-2 bKddwo',)\n",
    "\n",
    "print('Following is the of Dates for most downloaded authors referred from', url, ':', '\\n')\n",
    "a=1\n",
    "for i in header_data:\n",
    "    print(a,'.',i.text.strip())\n",
    "    a = a+1"
   ]
  },
  {
   "cell_type": "markdown",
   "metadata": {},
   "source": [
    "# Q.8.4.Write a python program to scrape the details of most downloaded articles from AI in last 90 days.\n",
    "https://www.journals.elsevier.com/artificial-intelligence/most-downloaded-articles\n",
    "    Links"
   ]
  },
  {
   "cell_type": "code",
   "execution_count": 109,
   "metadata": {},
   "outputs": [
    {
     "name": "stdout",
     "output_type": "stream",
     "text": [
      "News URL: #skip-to-content-anchor\n",
      "News URL: http://www.elsevier.com\n",
      "News URL: https://account.elsevier.com/auth\n",
      "News URL: https://elsevier.com/about\n",
      "News URL: https://www.elsevier.com/connect\n",
      "News URL: https://www.elsevier.com/about/careers\n",
      "News URL: https://elsevier.com/about\n",
      "News URL: https://www.elsevier.com/connect\n",
      "News URL: https://www.elsevier.com/about/careers\n",
      "News URL: https://www.elsevier.com/rd-solutions\n",
      "News URL: https://www.elsevier.com/clinical-solutions\n",
      "News URL: https://www.elsevier.com/research-platforms\n",
      "News URL: https://www.elsevier.com/research-intelligence\n",
      "News URL: https://www.elsevier.com/education\n",
      "News URL: https://www.elsevier.com/solutions\n",
      "News URL: https://www.elsevier.com/rd-solutions\n",
      "News URL: https://www.elsevier.com/clinical-solutions\n",
      "News URL: https://www.elsevier.com/research-platforms\n",
      "News URL: https://www.elsevier.com/research-intelligence\n",
      "News URL: https://www.elsevier.com/education\n",
      "News URL: https://www.elsevier.com/solutions\n",
      "News URL: https://www.elsevier.com/authors\n",
      "News URL: https://www.elsevier.com/editors\n",
      "News URL: https://www.elsevier.com/reviewers\n",
      "News URL: https://www.elsevier.com/librarians\n",
      "News URL: https://www.elsevier.com/strategic-partners\n",
      "News URL: https://www.elsevier.com/open-access\n",
      "News URL: https://www.elsevier.com/societies\n",
      "News URL: https://www.elsevier.com/authors\n",
      "News URL: https://www.elsevier.com/editors\n",
      "News URL: https://www.elsevier.com/reviewers\n",
      "News URL: https://www.elsevier.com/librarians\n",
      "News URL: https://www.elsevier.com/strategic-partners\n",
      "News URL: https://www.elsevier.com/open-access\n",
      "News URL: https://www.elsevier.com/societies\n",
      "News URL: https://www.elsevier.com/books-and-journals\n",
      "News URL: https://webshop.elsevier.com/?utm_source=ecom&utm_medium=top&utm_campaign=webshop\n",
      "News URL: https://www.elsevier.com/books-and-journals\n",
      "News URL: https://webshop.elsevier.com/?utm_source=ecom&utm_medium=top&utm_campaign=webshop\n",
      "News URL: https://global-checkout.elsevier.com\n",
      "News URL: https://account.elsevier.com/auth\n",
      "News URL: https://www.elsevier.com/\n",
      "News URL: https://www.elsevier.com/authors/submit-your-paper\n",
      "News URL: https://www.sciencedirect.com/\n",
      "News URL: https://www.elsevier.com/search-results?labels=journals\n",
      "News URL: https://www.elsevier.com\n",
      "News URL: //www.elsevier.com/legal/elsevier-website-terms-and-conditions\n",
      "News URL: //www.elsevier.com/legal/privacy-policy\n",
      "News URL: //www.elsevier.com/legal/cookienotice\n",
      "News URL: //www.elsevier.com/sitemap\n",
      "News URL: https://www.relx.com/\n"
     ]
    }
   ],
   "source": [
    "url = 'https://www.journals.elsevier.com/artificial-intelligence/most-downloaded-articles '\n",
    "data = rq.get(url)\n",
    "html_data = data.content\n",
    " \n",
    "Soup = bs(data.text, 'html.parser')\n",
    " \n",
    "\n",
    "header_data = Soup.find_all('a',)\n",
    "\n",
    "for a in header_data:\n",
    "    print ( \"News URL:\", a['href'])"
   ]
  },
  {
   "cell_type": "markdown",
   "metadata": {},
   "source": [
    "# Q.9.1.Write a python program to scrape mentioned details from dineout.co.in :\n",
    "    Restuarants"
   ]
  },
  {
   "cell_type": "code",
   "execution_count": null,
   "metadata": {},
   "outputs": [],
   "source": [
    "url = 'https://www.dineout.co.in/mumbai-restaurants/welcome-back'\n",
    "\n",
    "\n",
    "data = rq.get(url)\n",
    "html_data = data.content\n",
    " \n",
    "Soup = bs(html_data, 'html.parser')\n",
    " \n",
    "header_data = Soup.find_all('a',attrs={'class':\"restnt-name ellipsis\"} )\n",
    "\n",
    "print('List of Restuarants:')\n",
    "a=1\n",
    "for i in header_data:\n",
    "    print(a,'.',i.text.strip())\n",
    "    a = a+1\n"
   ]
  }
 ],
 "metadata": {
  "kernelspec": {
   "display_name": "Python 3",
   "language": "python",
   "name": "python3"
  },
  "language_info": {
   "codemirror_mode": {
    "name": "ipython",
    "version": 3
   },
   "file_extension": ".py",
   "mimetype": "text/x-python",
   "name": "python",
   "nbconvert_exporter": "python",
   "pygments_lexer": "ipython3",
   "version": "3.6.5"
  }
 },
 "nbformat": 4,
 "nbformat_minor": 2
}
